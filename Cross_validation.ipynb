{
 "cells": [
  {
   "cell_type": "code",
   "execution_count": 31,
   "id": "266b5fec-2304-4803-8a72-f828b801dea0",
   "metadata": {},
   "outputs": [],
   "source": [
    "import numpy as np\n",
    "import pandas as pd\n",
    "import matplotlib.pyplot as plt\n",
    "from sklearn.preprocessing import StandardScaler\n",
    "from sklearn.model_selection import cross_val_score, cross_val_predict, KFold\n",
    "from sklearn.pipeline import make_pipeline\n",
    "from sklearn.preprocessing import PolynomialFeatures\n",
    "from sklearn.svm import SVR\n",
    "from sklearn.linear_model import LinearRegression\n",
    "from sklearn.metrics import mean_squared_error, mean_absolute_error, r2_score"
   ]
  },
  {
   "cell_type": "code",
   "execution_count": 32,
   "id": "5baaa681-f475-4a5a-a8a9-0ca8535b9c41",
   "metadata": {},
   "outputs": [],
   "source": [
    "df = pd.read_csv('Dataset_poly.csv')\n",
    "X = df.drop(columns=[\"Glucose\"])\n",
    "y = df[\"Glucose\"]"
   ]
  },
  {
   "cell_type": "code",
   "execution_count": 33,
   "id": "71839aea-efdd-43d4-8408-849c79680772",
   "metadata": {},
   "outputs": [],
   "source": [
    "# Definiamo il grado del polinomio\n",
    "degree = 3"
   ]
  },
  {
   "cell_type": "code",
   "execution_count": 34,
   "id": "f69a6e7c-1010-4ace-86e9-79e282acc11b",
   "metadata": {},
   "outputs": [],
   "source": [
    "# 3. Creiamo il modello polinomiale\n",
    "model = make_pipeline(\n",
    "    StandardScaler(),  # utile per SVR\n",
    "    SVR(kernel='poly', degree=degree, C=50)\n",
    ")"
   ]
  },
  {
   "cell_type": "code",
   "execution_count": 35,
   "id": "79196bad-e298-4f9f-bd91-fd2786da444c",
   "metadata": {},
   "outputs": [],
   "source": [
    "# K-Fold Cross Validation\n",
    "kf = KFold(n_splits=5, shuffle=True, random_state=42)"
   ]
  },
  {
   "cell_type": "code",
   "execution_count": 36,
   "id": "6ee13147-e306-43e8-baef-d2d8e4408f42",
   "metadata": {},
   "outputs": [],
   "source": [
    "# Calcoliamo le metriche con la cross-validation\n",
    "y_pred_cv = cross_val_predict(model, X, y, cv=kf)"
   ]
  },
  {
   "cell_type": "code",
   "execution_count": 37,
   "id": "2a72b89b-6272-4f45-a23b-50389992ce23",
   "metadata": {},
   "outputs": [
    {
     "name": "stdout",
     "output_type": "stream",
     "text": [
      "R^2 Score: 0.8898\n",
      "Mean Squared Error: 183.7142\n",
      "Mean Absolute Error: 10.3259\n"
     ]
    }
   ],
   "source": [
    "r2 = r2_score(y, y_pred_cv)\n",
    "mse = mean_squared_error(y, y_pred_cv)\n",
    "mae = mean_absolute_error(y, y_pred_cv)\n",
    "\n",
    "print(f\"R^2 Score: {r2:.4f}\")\n",
    "print(f\"Mean Squared Error: {mse:.4f}\")\n",
    "print(f\"Mean Absolute Error: {mae:.4f}\")"
   ]
  }
 ],
 "metadata": {
  "kernelspec": {
   "display_name": "Python [conda env:base] *",
   "language": "python",
   "name": "conda-base-py"
  },
  "language_info": {
   "codemirror_mode": {
    "name": "ipython",
    "version": 3
   },
   "file_extension": ".py",
   "mimetype": "text/x-python",
   "name": "python",
   "nbconvert_exporter": "python",
   "pygments_lexer": "ipython3",
   "version": "3.12.7"
  }
 },
 "nbformat": 4,
 "nbformat_minor": 5
}
